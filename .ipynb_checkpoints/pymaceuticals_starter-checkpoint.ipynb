{
 "cells": [
  {
   "cell_type": "markdown",
   "metadata": {},
   "source": [
    "## Observations and Insights "
   ]
  },
  {
   "cell_type": "markdown",
   "metadata": {},
   "source": []
  },
  {
   "cell_type": "code",
   "execution_count": null,
   "metadata": {},
   "outputs": [],
   "source": [
    "# Dependencies and Setup\n",
    "import matplotlib.pyplot as plt\n",
    "import pandas as pd\n",
    "import scipy.stats as st\n",
    "pd.set_option(\"display.precision\", 2)\n",
    "import numpy as np\n",
    "\n",
    "# Study data files\n",
    "mouse_metadata_path = \"Resources/Mouse_metadata.csv\"\n",
    "study_results_path = \"Resources/Study_results.csv\"\n",
    "\n",
    "# Read the mouse data and the study results\n",
    "mouse_metadata = pd.read_csv(mouse_metadata_path)\n",
    "study_results = pd.read_csv(study_results_path)\n",
    "\n",
    "# Combine the data into a single dataset\n",
    "merged_data = pd.DataFrame.merge(mouse_metadata, study_results)\n",
    "\n",
    "#simplify name\n",
    "df = merged_data\n",
    "\n",
    "# Display the data table for preview\n",
    "df.head()\n",
    "\n",
    "#check value counts\n",
    "df['Mouse ID'].value_counts()\n",
    "\n",
    "# looks like g89 has 3 duplicated values\n"
   ]
  },
  {
   "cell_type": "code",
   "execution_count": null,
   "metadata": {},
   "outputs": [],
   "source": [
    "# count number of unique mice\n",
    "\n",
    "df_uniq = df.sort_values('Mouse ID')\n",
    "df_uniq = df_uniq.drop_duplicates(subset='Mouse ID', keep='first')\n",
    "\n",
    "num_unique_mice = df_uniq['Mouse ID'].count()\n",
    "\n",
    "print (f\"There were {num_unique_mice} mice used in this experiment\")"
   ]
  },
  {
   "cell_type": "code",
   "execution_count": null,
   "metadata": {},
   "outputs": [],
   "source": [
    "# Getting the duplicate mice by ID number that shows up for Mouse ID and Timepoint. \n",
    "# actually the vaue_counts number above showed which mic were duplicate. \n",
    "#I had done this anlysis before realizing that so left i in.\n",
    "\n",
    "df_sorted = df.sort_values(by=['Mouse ID', 'Timepoint'])\n",
    "\n",
    "#identify duplicated rows\n",
    "dupes = df_sorted[df_sorted.duplicated(['Mouse ID', 'Timepoint'])]\n",
    "\n",
    "#after looking at the above results, g989 had duplicated data. (as shown in values.count result)\n",
    "duplicated_mouse_data = df[df['Mouse ID'] == 'g989']\n",
    "\n",
    "#removed all rows for mouse g989.  Not sure if we should just remove the duplicated rows,\n",
    "#but instructions seemd to say get rid of all data for that mouse\n",
    "filtered_df = df[df['Mouse ID'] != 'g989']\n",
    "\n",
    "#see how many unique mie are now in the expriment\n",
    "\n",
    "new_df_uniq = filtered_df.drop_duplicates(subset='Mouse ID', keep='first')\n",
    "\n",
    "new_unique_mice = new_df_uniq['Mouse ID'].count()\n",
    "\n",
    "#check that the right number of rows, and only one unique mouse were removed\n",
    "\n",
    "original_num = df['Mouse ID'].value_counts().sum()   \n",
    "num_dups = dupes['Mouse ID'].value_counts().sum()\n",
    "num_dup_rows = duplicated_mouse_data['Mouse ID'].value_counts().sum()\n",
    "filtered_num = filtered_df['Mouse ID'].value_counts().sum()\n",
    "\n",
    "print (f\"There were originally {num_unique_mice} mice used in this experiment\")\n",
    "print (f\"After dups removed there are {new_unique_mice} mice represented in the data\")\n",
    "\n",
    "print(f\"original total of observations = {original_num}\")\n",
    "print(f\"number duplicated rows identified = {num_dups}\")\n",
    "print(f\"number of rows from the problem mouse (g989) = {num_dup_rows}\")\n",
    "print(f\"number of observations remaining after g989 removed = {filtered_num}\")\n"
   ]
  },
  {
   "cell_type": "markdown",
   "metadata": {},
   "source": [
    "## Summary Statistics"
   ]
  },
  {
   "cell_type": "code",
   "execution_count": null,
   "metadata": {},
   "outputs": [],
   "source": [
    "# Generate a summary statistics table of mean, median, variance, standard deviation, \n",
    "#and SEM of the tumor volume for each regimen\n",
    "\n",
    "clean = filtered_df\n",
    "drugs = clean['Drug Regimen'].value_counts()\n",
    "\n",
    "clean_uniq = clean.sort_values('Drug Regimen')\n",
    "drugs = clean_uniq.drop_duplicates(subset='Drug Regimen', keep='first')\n",
    "\n",
    "#make a list of drugs\n",
    "reg = [drug for drug in drugs['Drug Regimen']]\n",
    "\n",
    "#group data frame by drug regimen \n",
    "gby_regimen = clean.groupby('Drug Regimen')\n",
    "\n",
    "#make a list of each decriptive statistic\n",
    "means = [stat for stat in gby_regimen['Tumor Volume (mm3)'].mean()]\n",
    "medians = [stat for stat in gby_regimen['Tumor Volume (mm3)'].median()]\n",
    "stds = [stat for stat in gby_regimen['Tumor Volume (mm3)'].std()]\n",
    "vars = [stat for stat in gby_regimen['Tumor Volume (mm3)'].var()]\n",
    "sems = [stat for stat in gby_regimen['Tumor Volume (mm3)'].sem()]\n",
    "\n",
    "# Make a dictionary with appropriate column names and corresponding list of values\n",
    "stats_dict = {'Drug': reg, \n",
    "              'Mean':means,\n",
    "              'Median': medians, \n",
    "              'St. Dev':stds, \n",
    "              'Variance': vars,\n",
    "              'SEM': sems}\n",
    "\n",
    "stats_dict_df = pd.DataFrame(stats_dict)\n",
    "stats_dict_df.style.set_caption(\"Descriptive Statistics for Tumor Volume Following Various Drug Treatments\")\n",
    "\n",
    "    "
   ]
  },
  {
   "cell_type": "code",
   "execution_count": null,
   "metadata": {},
   "outputs": [],
   "source": [
    "# Generate a summary statistics table of mean, median, variance, standard deviation, and SEM of the tumor volume for each regimen\n",
    "\n",
    "\n"
   ]
  },
  {
   "cell_type": "code",
   "execution_count": null,
   "metadata": {},
   "outputs": [],
   "source": [
    "# Using the aggregation method, produce the same summary statistics in a single line\n",
    "gby_regimen.agg({'Tumor Volume (mm3)': ['mean','median', 'std', 'var', 'sem']})\n",
    "\n",
    "# I found this method on my own after many googles, then read the instructions.  I'm seeing a pattern.\n",
    "\n"
   ]
  },
  {
   "cell_type": "markdown",
   "metadata": {},
   "source": [
    "## Bar and Pie Charts"
   ]
  },
  {
   "cell_type": "code",
   "execution_count": null,
   "metadata": {},
   "outputs": [],
   "source": [
    "# Generate a bar plot showing the total number of measurements taken on each drug regimen using pandas.\n",
    "\n",
    "clean.rename(columns = {\"Tumor Volume (mm3)\" : \"Volume\"}, inplace =True)\n",
    "\n",
    "gby_drug = clean.groupby(['Drug Regimen'])\n",
    "\n",
    "ax = gby_drug['Volume'].count().plot(kind='bar')\n",
    "\n",
    "ax.set(xlabel='Drug', ylabel='Number of measurements', title = 'The number of tumor measurements for each drug treatment' )\n"
   ]
  },
  {
   "cell_type": "code",
   "execution_count": null,
   "metadata": {},
   "outputs": [],
   "source": [
    "# Generate a bar plot showing the total number of measurements taken on each drug regimen using pyplot.\n",
    "data = gby_drug['Volume'].count()\n",
    "\n",
    "data = data.reset_index()\n",
    "data\n",
    "\n",
    "plt.bar(data['Drug Regimen'], data['Volume'])\n",
    "plt.xticks(rotation='vertical')\n",
    "plt.title('The number of tumor measurements for each drug treatment')\n",
    "#plt.bar(names, values)\n",
    "\n"
   ]
  },
  {
   "cell_type": "code",
   "execution_count": null,
   "metadata": {},
   "outputs": [],
   "source": [
    "# Generate a pie plot showing the distribution of female versus male mice using pandas\n",
    "\n",
    "sex = clean.groupby(['Sex'])\n",
    "sex_count = sex['Sex'].count()\n",
    "sex_count.plot(kind='pie', shadow = True, figsize=(5,5), autopct='%1.1f%%')\n",
    "\n"
   ]
  },
  {
   "cell_type": "code",
   "execution_count": null,
   "metadata": {},
   "outputs": [],
   "source": [
    "# Generate a pie plot showing the distribution of female versus male mice using pyplot\n",
    "sex = clean.groupby(['Sex'])\n",
    "sex_count = sex['Mouse ID'].count().reset_index()\n",
    "\n",
    "# Pie chart, where the slices will be ordered and plotted counter-clockwise:\n",
    "\n",
    "labels = sex_count['Sex']\n",
    "sizes = sex_count['Mouse ID']\n",
    "plt.pie(sizes, labels=labels, autopct='%1.1f%%')\n",
    "plt.title(\"sex\")\n",
    "\n",
    "\n",
    "\n",
    "#sex_count\n",
    "\n",
    "\n"
   ]
  },
  {
   "cell_type": "markdown",
   "metadata": {},
   "source": [
    "## Quartiles, Outliers and Boxplots"
   ]
  },
  {
   "cell_type": "code",
   "execution_count": null,
   "metadata": {},
   "outputs": [],
   "source": [
    "# Calculate the final tumor volume of each mouse across four of the treatment regimens:  \n",
    "# Capomulin, Ramicane, Infubinol, and Ceftamin\n",
    "\n",
    "# Start by getting the last (greatest) timepoint for each mouse\n",
    "new_df = clean[clean['Timepoint'] == max(clean['Timepoint'])]\n",
    "new_df['Mouse ID'].value_counts().sum()\n",
    "\n",
    "#new_df.head(n=50)  - looks good.  ALl time points are 45.\n",
    "\n"
   ]
  },
  {
   "cell_type": "code",
   "execution_count": 97,
   "metadata": {},
   "outputs": [
    {
     "name": "stdout",
     "output_type": "stream",
     "text": [
      "looks like there are 2 outliers across all four treatments\n"
     ]
    },
    {
     "data": {
      "text/plain": [
       "{'whiskers': [<matplotlib.lines.Line2D at 0x1e7307b2fd0>,\n",
       "  <matplotlib.lines.Line2D at 0x1e7307bf390>],\n",
       " 'caps': [<matplotlib.lines.Line2D at 0x1e7307bf710>,\n",
       "  <matplotlib.lines.Line2D at 0x1e7307bfa90>],\n",
       " 'boxes': [<matplotlib.lines.Line2D at 0x1e7307b2cc0>],\n",
       " 'medians': [<matplotlib.lines.Line2D at 0x1e7307bfe10>],\n",
       " 'fliers': [<matplotlib.lines.Line2D at 0x1e7307ca1d0>],\n",
       " 'means': []}"
      ]
     },
     "execution_count": 97,
     "metadata": {},
     "output_type": "execute_result"
    },
    {
     "data": {
      "image/png": "[encoded data removed]",
      "text/plain": [
       "<Figure size 432x288 with 1 Axes>"
      ]
     },
     "metadata": {
      "needs_background": "light"
     },
     "output_type": "display_data"
    }
   ],
   "source": [
    "# Put treatments into a list for for loop (and later for plot labels)\n",
    "\n",
    "#treatment_list\n",
    "\n",
    "treatments = ['Capomulin','Ramicane', 'Infubinol', 'Ceftamin']\n",
    "\n",
    "cap = new_df[new_df['Drug Regimen'] == 'Capomulin']\n",
    "ram = new_df[new_df['Drug Regimen'] == 'Ramicane']\n",
    "inf = new_df[new_df['Drug Regimen'] == 'Infubinol']\n",
    "cef = new_df[new_df['Drug Regimen'] == 'Ceftamin']\n",
    "\n",
    "volumes = {'Capomulin':cap['Volume'],\n",
    "           'Ramicane':ram['Volume'],\n",
    "           'Infubinol': inf['Volume'], \n",
    "           'Ceftamin' : cef['Volume'] }\n",
    "\n",
    "volumes['Ceftamin'].count()\n",
    "\n",
    "new_df['Drug Regimen'].value_counts()\n",
    "\n",
    "vol_df = pd.DataFrame.from_dict(volumes)\n",
    "\n",
    "outliers = 0\n",
    "for treatment in treatments:\n",
    "    \n",
    "    first = np.percentile(volumes[treatment], 25)\n",
    "    third = np.percentile(volumes[treatment], 75)\n",
    "    IQR = round(third-first,2)\n",
    "    upper = third + IQR\n",
    "    lower = first - IQR\n",
    "    #print(upper)\n",
    "    #print(lower)\n",
    "    \n",
    "    for value in volumes[treatment]:\n",
    "        if value < lower or value > upper:\n",
    "            outliers +=1\n",
    "            \n",
    "print(f\"looks like there are {outliers} outliers across all four treatments\")\n",
    "\n",
    "\n",
    "            \n",
    "plt.boxplot(volumes['Ceftamin'])\n",
    "            \n",
    "\n",
    "    \n",
    "    \n",
    "    \n",
    "\n",
    "    "
   ]
  },
  {
   "cell_type": "code",
   "execution_count": null,
   "metadata": {},
   "outputs": [],
   "source": [
    "# Generate a box plot of the final tumor volume of each mouse across four regimens of interest\n"
   ]
  },
  {
   "cell_type": "markdown",
   "metadata": {},
   "source": [
    "## Line and Scatter Plots"
   ]
  },
  {
   "cell_type": "code",
   "execution_count": null,
   "metadata": {},
   "outputs": [],
   "source": [
    "# Generate a line plot of tumor volume vs. time point for a mouse treated with Capomulin\n"
   ]
  },
  {
   "cell_type": "code",
   "execution_count": null,
   "metadata": {},
   "outputs": [],
   "source": [
    "# Generate a scatter plot of average tumor volume vs. mouse weight for the Capomulin regimen\n"
   ]
  },
  {
   "cell_type": "markdown",
   "metadata": {},
   "source": [
    "## Correlation and Regression"
   ]
  },
  {
   "cell_type": "code",
   "execution_count": null,
   "metadata": {},
   "outputs": [],
   "source": [
    "# Calculate the correlation coefficient and linear regression model \n",
    "# for mouse weight and average tumor volume for the Capomulin regimen\n"
   ]
  },
  {
   "cell_type": "code",
   "execution_count": null,
   "metadata": {},
   "outputs": [],
   "source": []
  }
 ],
 "metadata": {
  "anaconda-cloud": {},
  "kernelspec": {
   "display_name": "Python 3",
   "language": "python",
   "name": "python3"
  },
  "language_info": {
   "codemirror_mode": {
    "name": "ipython",
    "version": 3
   },
   "file_extension": ".py",
   "mimetype": "text/x-python",
   "name": "python",
   "nbconvert_exporter": "python",
   "pygments_lexer": "ipython3",
   "version": "3.6.10"
  }
 },
 "nbformat": 4,
 "nbformat_minor": 4
}
