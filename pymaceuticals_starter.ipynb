{
 "cells": [
  {
   "cell_type": "markdown",
   "metadata": {},
   "source": [
    "## Observations and Insights "
   ]
  },
  {
   "cell_type": "markdown",
   "metadata": {},
   "source": []
  },
  {
   "cell_type": "code",
   "execution_count": 1,
   "metadata": {},
   "outputs": [
    {
     "data": {
      "text/plain": [
       "g989    13\n",
       "j365    10\n",
       "m957    10\n",
       "q597    10\n",
       "b879    10\n",
       "        ..\n",
       "d133     1\n",
       "o848     1\n",
       "x336     1\n",
       "l872     1\n",
       "b447     1\n",
       "Name: Mouse ID, Length: 249, dtype: int64"
      ]
     },
     "execution_count": 1,
     "metadata": {},
     "output_type": "execute_result"
    }
   ],
   "source": [
    "# Dependencies and Setup\n",
    "import matplotlib.pyplot as plt\n",
    "import pandas as pd\n",
    "import scipy.stats as st\n",
    "pd.set_option(\"display.precision\", 2)\n",
    "import numpy as np\n",
    "\n",
    "# Study data files\n",
    "mouse_metadata_path = \"Resources/Mouse_metadata.csv\"\n",
    "study_results_path = \"Resources/Study_results.csv\"\n",
    "\n",
    "# Read the mouse data and the study results\n",
    "mouse_metadata = pd.read_csv(mouse_metadata_path)\n",
    "study_results = pd.read_csv(study_results_path)\n",
    "\n",
    "# Combine the data into a single dataset\n",
    "merged_data = pd.DataFrame.merge(mouse_metadata, study_results)\n",
    "\n",
    "#simplify name\n",
    "df = merged_data\n",
    "\n",
    "# Display the data table for preview\n",
    "df.head()\n",
    "\n",
    "#check value counts\n",
    "df['Mouse ID'].value_counts()\n",
    "\n",
    "# looks like g89 has 3 duplicated values\n"
   ]
  },
  {
   "cell_type": "code",
   "execution_count": 2,
   "metadata": {},
   "outputs": [
    {
     "name": "stdout",
     "output_type": "stream",
     "text": [
      "There were 249 mice used in this experiment\n"
     ]
    }
   ],
   "source": [
    "# count number of unique mice\n",
    "\n",
    "df_uniq = df.sort_values('Mouse ID')\n",
    "df_uniq = df_uniq.drop_duplicates(subset='Mouse ID', keep='first')\n",
    "\n",
    "num_unique_mice = df_uniq['Mouse ID'].count()\n",
    "\n",
    "print (f\"There were {num_unique_mice} mice used in this experiment\")"
   ]
  },
  {
   "cell_type": "code",
   "execution_count": 3,
   "metadata": {},
   "outputs": [
    {
     "name": "stdout",
     "output_type": "stream",
     "text": [
      "There were originally 249 mice used in this experiment\n",
      "After dups removed there are 248 mice represented in the data\n",
      "original total of observations = 1893\n",
      "number duplicated rows identified = 5\n",
      "number of rows from the problem mouse (g989) = 13\n",
      "number of observations remaining after g989 removed = 1880\n"
     ]
    }
   ],
   "source": [
    "# Getting the duplicate mice by ID number that shows up for Mouse ID and Timepoint. \n",
    "# actually the vaue_counts number above showed which mic were duplicate. \n",
    "#I had done this anlysis before realizing that so left i in.\n",
    "\n",
    "df_sorted = df.sort_values(by=['Mouse ID', 'Timepoint'])\n",
    "\n",
    "#identify duplicated rows\n",
    "dupes = df_sorted[df_sorted.duplicated(['Mouse ID', 'Timepoint'])]\n",
    "\n",
    "#after looking at the above results, g989 had duplicated data. (as shown in values.count result)\n",
    "duplicated_mouse_data = df[df['Mouse ID'] == 'g989']\n",
    "\n",
    "#removed all rows for mouse g989.  Not sure if we should just remove the duplicated rows,\n",
    "#but instructions seemd to say get rid of all data for that mouse\n",
    "filtered_df = df[df['Mouse ID'] != 'g989']\n",
    "\n",
    "#see how many unique mie are now in the expriment\n",
    "\n",
    "new_df_uniq = filtered_df.drop_duplicates(subset='Mouse ID', keep='first')\n",
    "\n",
    "new_unique_mice = new_df_uniq['Mouse ID'].count()\n",
    "\n",
    "#check that the right number of rows, and only one unique mouse were removed\n",
    "\n",
    "original_num = df['Mouse ID'].value_counts().sum()   \n",
    "num_dups = dupes['Mouse ID'].value_counts().sum()\n",
    "num_dup_rows = duplicated_mouse_data['Mouse ID'].value_counts().sum()\n",
    "filtered_num = filtered_df['Mouse ID'].value_counts().sum()\n",
    "\n",
    "print (f\"There were originally {num_unique_mice} mice used in this experiment\")\n",
    "print (f\"After dups removed there are {new_unique_mice} mice represented in the data\")\n",
    "\n",
    "print(f\"original total of observations = {original_num}\")\n",
    "print(f\"number duplicated rows identified = {num_dups}\")\n",
    "print(f\"number of rows from the problem mouse (g989) = {num_dup_rows}\")\n",
    "print(f\"number of observations remaining after g989 removed = {filtered_num}\")\n"
   ]
  },
  {
   "cell_type": "markdown",
   "metadata": {},
   "source": [
    "## Summary Statistics"
   ]
  },
  {
   "cell_type": "code",
   "execution_count": 4,
   "metadata": {},
   "outputs": [
    {
     "data": {
      "text/html": [
       "<style  type=\"text/css\" >\n",
       "</style><table id=\"T_5ffc9576_3e1f_11eb_8d98_5c5f671e3097\" ><caption>Descriptive Statistics for Tumor Volume Following Various Drug Treatments</caption><thead>    <tr>        <th class=\"blank level0\" ></th>        <th class=\"col_heading level0 col0\" >Drug</th>        <th class=\"col_heading level0 col1\" >Mean</th>        <th class=\"col_heading level0 col2\" >Median</th>        <th class=\"col_heading level0 col3\" >St. Dev</th>        <th class=\"col_heading level0 col4\" >Variance</th>        <th class=\"col_heading level0 col5\" >SEM</th>    </tr></thead><tbody>\n",
       "                <tr>\n",
       "                        <th id=\"T_5ffc9576_3e1f_11eb_8d98_5c5f671e3097level0_row0\" class=\"row_heading level0 row0\" >0</th>\n",
       "                        <td id=\"T_5ffc9576_3e1f_11eb_8d98_5c5f671e3097row0_col0\" class=\"data row0 col0\" >Capomulin</td>\n",
       "                        <td id=\"T_5ffc9576_3e1f_11eb_8d98_5c5f671e3097row0_col1\" class=\"data row0 col1\" >40.68</td>\n",
       "                        <td id=\"T_5ffc9576_3e1f_11eb_8d98_5c5f671e3097row0_col2\" class=\"data row0 col2\" >41.56</td>\n",
       "                        <td id=\"T_5ffc9576_3e1f_11eb_8d98_5c5f671e3097row0_col3\" class=\"data row0 col3\" >4.99</td>\n",
       "                        <td id=\"T_5ffc9576_3e1f_11eb_8d98_5c5f671e3097row0_col4\" class=\"data row0 col4\" >24.95</td>\n",
       "                        <td id=\"T_5ffc9576_3e1f_11eb_8d98_5c5f671e3097row0_col5\" class=\"data row0 col5\" >0.33</td>\n",
       "            </tr>\n",
       "            <tr>\n",
       "                        <th id=\"T_5ffc9576_3e1f_11eb_8d98_5c5f671e3097level0_row1\" class=\"row_heading level0 row1\" >1</th>\n",
       "                        <td id=\"T_5ffc9576_3e1f_11eb_8d98_5c5f671e3097row1_col0\" class=\"data row1 col0\" >Ceftamin</td>\n",
       "                        <td id=\"T_5ffc9576_3e1f_11eb_8d98_5c5f671e3097row1_col1\" class=\"data row1 col1\" >52.59</td>\n",
       "                        <td id=\"T_5ffc9576_3e1f_11eb_8d98_5c5f671e3097row1_col2\" class=\"data row1 col2\" >51.78</td>\n",
       "                        <td id=\"T_5ffc9576_3e1f_11eb_8d98_5c5f671e3097row1_col3\" class=\"data row1 col3\" >6.27</td>\n",
       "                        <td id=\"T_5ffc9576_3e1f_11eb_8d98_5c5f671e3097row1_col4\" class=\"data row1 col4\" >39.29</td>\n",
       "                        <td id=\"T_5ffc9576_3e1f_11eb_8d98_5c5f671e3097row1_col5\" class=\"data row1 col5\" >0.47</td>\n",
       "            </tr>\n",
       "            <tr>\n",
       "                        <th id=\"T_5ffc9576_3e1f_11eb_8d98_5c5f671e3097level0_row2\" class=\"row_heading level0 row2\" >2</th>\n",
       "                        <td id=\"T_5ffc9576_3e1f_11eb_8d98_5c5f671e3097row2_col0\" class=\"data row2 col0\" >Infubinol</td>\n",
       "                        <td id=\"T_5ffc9576_3e1f_11eb_8d98_5c5f671e3097row2_col1\" class=\"data row2 col1\" >52.88</td>\n",
       "                        <td id=\"T_5ffc9576_3e1f_11eb_8d98_5c5f671e3097row2_col2\" class=\"data row2 col2\" >51.82</td>\n",
       "                        <td id=\"T_5ffc9576_3e1f_11eb_8d98_5c5f671e3097row2_col3\" class=\"data row2 col3\" >6.57</td>\n",
       "                        <td id=\"T_5ffc9576_3e1f_11eb_8d98_5c5f671e3097row2_col4\" class=\"data row2 col4\" >43.13</td>\n",
       "                        <td id=\"T_5ffc9576_3e1f_11eb_8d98_5c5f671e3097row2_col5\" class=\"data row2 col5\" >0.49</td>\n",
       "            </tr>\n",
       "            <tr>\n",
       "                        <th id=\"T_5ffc9576_3e1f_11eb_8d98_5c5f671e3097level0_row3\" class=\"row_heading level0 row3\" >3</th>\n",
       "                        <td id=\"T_5ffc9576_3e1f_11eb_8d98_5c5f671e3097row3_col0\" class=\"data row3 col0\" >Ketapril</td>\n",
       "                        <td id=\"T_5ffc9576_3e1f_11eb_8d98_5c5f671e3097row3_col1\" class=\"data row3 col1\" >55.24</td>\n",
       "                        <td id=\"T_5ffc9576_3e1f_11eb_8d98_5c5f671e3097row3_col2\" class=\"data row3 col2\" >53.70</td>\n",
       "                        <td id=\"T_5ffc9576_3e1f_11eb_8d98_5c5f671e3097row3_col3\" class=\"data row3 col3\" >8.28</td>\n",
       "                        <td id=\"T_5ffc9576_3e1f_11eb_8d98_5c5f671e3097row3_col4\" class=\"data row3 col4\" >68.55</td>\n",
       "                        <td id=\"T_5ffc9576_3e1f_11eb_8d98_5c5f671e3097row3_col5\" class=\"data row3 col5\" >0.60</td>\n",
       "            </tr>\n",
       "            <tr>\n",
       "                        <th id=\"T_5ffc9576_3e1f_11eb_8d98_5c5f671e3097level0_row4\" class=\"row_heading level0 row4\" >4</th>\n",
       "                        <td id=\"T_5ffc9576_3e1f_11eb_8d98_5c5f671e3097row4_col0\" class=\"data row4 col0\" >Naftisol</td>\n",
       "                        <td id=\"T_5ffc9576_3e1f_11eb_8d98_5c5f671e3097row4_col1\" class=\"data row4 col1\" >54.33</td>\n",
       "                        <td id=\"T_5ffc9576_3e1f_11eb_8d98_5c5f671e3097row4_col2\" class=\"data row4 col2\" >52.51</td>\n",
       "                        <td id=\"T_5ffc9576_3e1f_11eb_8d98_5c5f671e3097row4_col3\" class=\"data row4 col3\" >8.13</td>\n",
       "                        <td id=\"T_5ffc9576_3e1f_11eb_8d98_5c5f671e3097row4_col4\" class=\"data row4 col4\" >66.17</td>\n",
       "                        <td id=\"T_5ffc9576_3e1f_11eb_8d98_5c5f671e3097row4_col5\" class=\"data row4 col5\" >0.60</td>\n",
       "            </tr>\n",
       "            <tr>\n",
       "                        <th id=\"T_5ffc9576_3e1f_11eb_8d98_5c5f671e3097level0_row5\" class=\"row_heading level0 row5\" >5</th>\n",
       "                        <td id=\"T_5ffc9576_3e1f_11eb_8d98_5c5f671e3097row5_col0\" class=\"data row5 col0\" >Placebo</td>\n",
       "                        <td id=\"T_5ffc9576_3e1f_11eb_8d98_5c5f671e3097row5_col1\" class=\"data row5 col1\" >54.03</td>\n",
       "                        <td id=\"T_5ffc9576_3e1f_11eb_8d98_5c5f671e3097row5_col2\" class=\"data row5 col2\" >52.29</td>\n",
       "                        <td id=\"T_5ffc9576_3e1f_11eb_8d98_5c5f671e3097row5_col3\" class=\"data row5 col3\" >7.82</td>\n",
       "                        <td id=\"T_5ffc9576_3e1f_11eb_8d98_5c5f671e3097row5_col4\" class=\"data row5 col4\" >61.17</td>\n",
       "                        <td id=\"T_5ffc9576_3e1f_11eb_8d98_5c5f671e3097row5_col5\" class=\"data row5 col5\" >0.58</td>\n",
       "            </tr>\n",
       "            <tr>\n",
       "                        <th id=\"T_5ffc9576_3e1f_11eb_8d98_5c5f671e3097level0_row6\" class=\"row_heading level0 row6\" >6</th>\n",
       "                        <td id=\"T_5ffc9576_3e1f_11eb_8d98_5c5f671e3097row6_col0\" class=\"data row6 col0\" >Propriva</td>\n",
       "                        <td id=\"T_5ffc9576_3e1f_11eb_8d98_5c5f671e3097row6_col1\" class=\"data row6 col1\" >52.32</td>\n",
       "                        <td id=\"T_5ffc9576_3e1f_11eb_8d98_5c5f671e3097row6_col2\" class=\"data row6 col2\" >50.45</td>\n",
       "                        <td id=\"T_5ffc9576_3e1f_11eb_8d98_5c5f671e3097row6_col3\" class=\"data row6 col3\" >6.62</td>\n",
       "                        <td id=\"T_5ffc9576_3e1f_11eb_8d98_5c5f671e3097row6_col4\" class=\"data row6 col4\" >43.85</td>\n",
       "                        <td id=\"T_5ffc9576_3e1f_11eb_8d98_5c5f671e3097row6_col5\" class=\"data row6 col5\" >0.54</td>\n",
       "            </tr>\n",
       "            <tr>\n",
       "                        <th id=\"T_5ffc9576_3e1f_11eb_8d98_5c5f671e3097level0_row7\" class=\"row_heading level0 row7\" >7</th>\n",
       "                        <td id=\"T_5ffc9576_3e1f_11eb_8d98_5c5f671e3097row7_col0\" class=\"data row7 col0\" >Ramicane</td>\n",
       "                        <td id=\"T_5ffc9576_3e1f_11eb_8d98_5c5f671e3097row7_col1\" class=\"data row7 col1\" >40.22</td>\n",
       "                        <td id=\"T_5ffc9576_3e1f_11eb_8d98_5c5f671e3097row7_col2\" class=\"data row7 col2\" >40.67</td>\n",
       "                        <td id=\"T_5ffc9576_3e1f_11eb_8d98_5c5f671e3097row7_col3\" class=\"data row7 col3\" >4.85</td>\n",
       "                        <td id=\"T_5ffc9576_3e1f_11eb_8d98_5c5f671e3097row7_col4\" class=\"data row7 col4\" >23.49</td>\n",
       "                        <td id=\"T_5ffc9576_3e1f_11eb_8d98_5c5f671e3097row7_col5\" class=\"data row7 col5\" >0.32</td>\n",
       "            </tr>\n",
       "            <tr>\n",
       "                        <th id=\"T_5ffc9576_3e1f_11eb_8d98_5c5f671e3097level0_row8\" class=\"row_heading level0 row8\" >8</th>\n",
       "                        <td id=\"T_5ffc9576_3e1f_11eb_8d98_5c5f671e3097row8_col0\" class=\"data row8 col0\" >Stelasyn</td>\n",
       "                        <td id=\"T_5ffc9576_3e1f_11eb_8d98_5c5f671e3097row8_col1\" class=\"data row8 col1\" >54.23</td>\n",
       "                        <td id=\"T_5ffc9576_3e1f_11eb_8d98_5c5f671e3097row8_col2\" class=\"data row8 col2\" >52.43</td>\n",
       "                        <td id=\"T_5ffc9576_3e1f_11eb_8d98_5c5f671e3097row8_col3\" class=\"data row8 col3\" >7.71</td>\n",
       "                        <td id=\"T_5ffc9576_3e1f_11eb_8d98_5c5f671e3097row8_col4\" class=\"data row8 col4\" >59.45</td>\n",
       "                        <td id=\"T_5ffc9576_3e1f_11eb_8d98_5c5f671e3097row8_col5\" class=\"data row8 col5\" >0.57</td>\n",
       "            </tr>\n",
       "            <tr>\n",
       "                        <th id=\"T_5ffc9576_3e1f_11eb_8d98_5c5f671e3097level0_row9\" class=\"row_heading level0 row9\" >9</th>\n",
       "                        <td id=\"T_5ffc9576_3e1f_11eb_8d98_5c5f671e3097row9_col0\" class=\"data row9 col0\" >Zoniferol</td>\n",
       "                        <td id=\"T_5ffc9576_3e1f_11eb_8d98_5c5f671e3097row9_col1\" class=\"data row9 col1\" >53.24</td>\n",
       "                        <td id=\"T_5ffc9576_3e1f_11eb_8d98_5c5f671e3097row9_col2\" class=\"data row9 col2\" >51.82</td>\n",
       "                        <td id=\"T_5ffc9576_3e1f_11eb_8d98_5c5f671e3097row9_col3\" class=\"data row9 col3\" >6.97</td>\n",
       "                        <td id=\"T_5ffc9576_3e1f_11eb_8d98_5c5f671e3097row9_col4\" class=\"data row9 col4\" >48.53</td>\n",
       "                        <td id=\"T_5ffc9576_3e1f_11eb_8d98_5c5f671e3097row9_col5\" class=\"data row9 col5\" >0.52</td>\n",
       "            </tr>\n",
       "    </tbody></table>"
      ],
      "text/plain": [
       "<pandas.io.formats.style.Styler at 0x1eec9f61f28>"
      ]
     },
     "execution_count": 4,
     "metadata": {},
     "output_type": "execute_result"
    }
   ],
   "source": [
    "# Generate a summary statistics table of mean, median, variance, standard deviation, \n",
    "#and SEM of the tumor volume for each regimen\n",
    "\n",
    "clean = filtered_df\n",
    "drugs = clean['Drug Regimen'].value_counts()\n",
    "\n",
    "clean_uniq = clean.sort_values('Drug Regimen')\n",
    "drugs = clean_uniq.drop_duplicates(subset='Drug Regimen', keep='first')\n",
    "\n",
    "#make a list of drugs\n",
    "reg = [drug for drug in drugs['Drug Regimen']]\n",
    "\n",
    "#group data frame by drug regimen \n",
    "gby_regimen = clean.groupby('Drug Regimen')\n",
    "\n",
    "#make a list of each decriptive statistic\n",
    "means = [stat for stat in gby_regimen['Tumor Volume (mm3)'].mean()]\n",
    "medians = [stat for stat in gby_regimen['Tumor Volume (mm3)'].median()]\n",
    "stds = [stat for stat in gby_regimen['Tumor Volume (mm3)'].std()]\n",
    "vars = [stat for stat in gby_regimen['Tumor Volume (mm3)'].var()]\n",
    "sems = [stat for stat in gby_regimen['Tumor Volume (mm3)'].sem()]\n",
    "\n",
    "# Make a dictionary with appropriate column names and corresponding list of values\n",
    "stats_dict = {'Drug': reg, \n",
    "              'Mean':means,\n",
    "              'Median': medians, \n",
    "              'St. Dev':stds, \n",
    "              'Variance': vars,\n",
    "              'SEM': sems}\n",
    "\n",
    "stats_dict_df = pd.DataFrame(stats_dict)\n",
    "stats_dict_df.style.set_caption(\"Descriptive Statistics for Tumor Volume Following Various Drug Treatments\")\n",
    "\n",
    "    "
   ]
  },
  {
   "cell_type": "code",
   "execution_count": 5,
   "metadata": {},
   "outputs": [],
   "source": [
    "# Generate a summary statistics table of mean, median, variance, standard deviation, and SEM of the tumor volume for each regimen\n",
    "\n",
    "\n"
   ]
  },
  {
   "cell_type": "code",
   "execution_count": 6,
   "metadata": {},
   "outputs": [
    {
     "data": {
      "text/html": [
       "<div>\n",
       "<style scoped>\n",
       "    .dataframe tbody tr th:only-of-type {\n",
       "        vertical-align: middle;\n",
       "    }\n",
       "\n",
       "    .dataframe tbody tr th {\n",
       "        vertical-align: top;\n",
       "    }\n",
       "\n",
       "    .dataframe thead tr th {\n",
       "        text-align: left;\n",
       "    }\n",
       "\n",
       "    .dataframe thead tr:last-of-type th {\n",
       "        text-align: right;\n",
       "    }\n",
       "</style>\n",
       "<table border=\"1\" class=\"dataframe\">\n",
       "  <thead>\n",
       "    <tr>\n",
       "      <th></th>\n",
       "      <th colspan=\"5\" halign=\"left\">Tumor Volume (mm3)</th>\n",
       "    </tr>\n",
       "    <tr>\n",
       "      <th></th>\n",
       "      <th>mean</th>\n",
       "      <th>median</th>\n",
       "      <th>std</th>\n",
       "      <th>var</th>\n",
       "      <th>sem</th>\n",
       "    </tr>\n",
       "    <tr>\n",
       "      <th>Drug Regimen</th>\n",
       "      <th></th>\n",
       "      <th></th>\n",
       "      <th></th>\n",
       "      <th></th>\n",
       "      <th></th>\n",
       "    </tr>\n",
       "  </thead>\n",
       "  <tbody>\n",
       "    <tr>\n",
       "      <th>Capomulin</th>\n",
       "      <td>40.68</td>\n",
       "      <td>41.56</td>\n",
       "      <td>4.99</td>\n",
       "      <td>24.95</td>\n",
       "      <td>0.33</td>\n",
       "    </tr>\n",
       "    <tr>\n",
       "      <th>Ceftamin</th>\n",
       "      <td>52.59</td>\n",
       "      <td>51.78</td>\n",
       "      <td>6.27</td>\n",
       "      <td>39.29</td>\n",
       "      <td>0.47</td>\n",
       "    </tr>\n",
       "    <tr>\n",
       "      <th>Infubinol</th>\n",
       "      <td>52.88</td>\n",
       "      <td>51.82</td>\n",
       "      <td>6.57</td>\n",
       "      <td>43.13</td>\n",
       "      <td>0.49</td>\n",
       "    </tr>\n",
       "    <tr>\n",
       "      <th>Ketapril</th>\n",
       "      <td>55.24</td>\n",
       "      <td>53.70</td>\n",
       "      <td>8.28</td>\n",
       "      <td>68.55</td>\n",
       "      <td>0.60</td>\n",
       "    </tr>\n",
       "    <tr>\n",
       "      <th>Naftisol</th>\n",
       "      <td>54.33</td>\n",
       "      <td>52.51</td>\n",
       "      <td>8.13</td>\n",
       "      <td>66.17</td>\n",
       "      <td>0.60</td>\n",
       "    </tr>\n",
       "    <tr>\n",
       "      <th>Placebo</th>\n",
       "      <td>54.03</td>\n",
       "      <td>52.29</td>\n",
       "      <td>7.82</td>\n",
       "      <td>61.17</td>\n",
       "      <td>0.58</td>\n",
       "    </tr>\n",
       "    <tr>\n",
       "      <th>Propriva</th>\n",
       "      <td>52.32</td>\n",
       "      <td>50.45</td>\n",
       "      <td>6.62</td>\n",
       "      <td>43.85</td>\n",
       "      <td>0.54</td>\n",
       "    </tr>\n",
       "    <tr>\n",
       "      <th>Ramicane</th>\n",
       "      <td>40.22</td>\n",
       "      <td>40.67</td>\n",
       "      <td>4.85</td>\n",
       "      <td>23.49</td>\n",
       "      <td>0.32</td>\n",
       "    </tr>\n",
       "    <tr>\n",
       "      <th>Stelasyn</th>\n",
       "      <td>54.23</td>\n",
       "      <td>52.43</td>\n",
       "      <td>7.71</td>\n",
       "      <td>59.45</td>\n",
       "      <td>0.57</td>\n",
       "    </tr>\n",
       "    <tr>\n",
       "      <th>Zoniferol</th>\n",
       "      <td>53.24</td>\n",
       "      <td>51.82</td>\n",
       "      <td>6.97</td>\n",
       "      <td>48.53</td>\n",
       "      <td>0.52</td>\n",
       "    </tr>\n",
       "  </tbody>\n",
       "</table>\n",
       "</div>"
      ],
      "text/plain": [
       "             Tumor Volume (mm3)                          \n",
       "                           mean median   std    var   sem\n",
       "Drug Regimen                                             \n",
       "Capomulin                 40.68  41.56  4.99  24.95  0.33\n",
       "Ceftamin                  52.59  51.78  6.27  39.29  0.47\n",
       "Infubinol                 52.88  51.82  6.57  43.13  0.49\n",
       "Ketapril                  55.24  53.70  8.28  68.55  0.60\n",
       "Naftisol                  54.33  52.51  8.13  66.17  0.60\n",
       "Placebo                   54.03  52.29  7.82  61.17  0.58\n",
       "Propriva                  52.32  50.45  6.62  43.85  0.54\n",
       "Ramicane                  40.22  40.67  4.85  23.49  0.32\n",
       "Stelasyn                  54.23  52.43  7.71  59.45  0.57\n",
       "Zoniferol                 53.24  51.82  6.97  48.53  0.52"
      ]
     },
     "execution_count": 6,
     "metadata": {},
     "output_type": "execute_result"
    }
   ],
   "source": [
    "# Using the aggregation method, produce the same summary statistics in a single line\n",
    "gby_regimen.agg({'Tumor Volume (mm3)': ['mean','median', 'std', 'var', 'sem']})\n",
    "\n",
    "# I found this method on my own after many googles, then read the instructions.  I'm seeing a pattern.\n",
    "\n"
   ]
  },
  {
   "cell_type": "markdown",
   "metadata": {},
   "source": [
    "## Bar and Pie Charts"
   ]
  },
  {
   "cell_type": "code",
   "execution_count": 7,
   "metadata": {},
   "outputs": [
    {
     "name": "stderr",
     "output_type": "stream",
     "text": [
      "C:\\Users\\ksaville\\Anaconda3\\envs\\PythonData\\lib\\site-packages\\pandas\\core\\frame.py:4133: SettingWithCopyWarning: \n",
      "A value is trying to be set on a copy of a slice from a DataFrame\n",
      "\n",
      "See the caveats in the documentation: https://pandas.pydata.org/pandas-docs/stable/user_guide/indexing.html#returning-a-view-versus-a-copy\n",
      "  errors=errors,\n"
     ]
    },
    {
     "data": {
      "text/plain": [
       "[Text(0, 0.5, 'Number of measurements'),\n",
       " Text(0.5, 0, 'Drug'),\n",
       " Text(0.5, 1.0, 'The number of tumor measurements for each drug treatment')]"
      ]
     },
     "execution_count": 7,
     "metadata": {},
     "output_type": "execute_result"
    },
    {
     "data": {
      "image/png": "[encoded data removed]",
      "text/plain": [
       "<Figure size 432x288 with 1 Axes>"
      ]
     },
     "metadata": {
      "needs_background": "light"
     },
     "output_type": "display_data"
    }
   ],
   "source": [
    "# Generate a bar plot showing the total number of measurements taken on each drug regimen using pandas.\n",
    "\n",
    "clean.rename(columns = {\"Tumor Volume (mm3)\" : \"Volume\"}, inplace =True)\n",
    "\n",
    "gby_drug = clean.groupby(['Drug Regimen'])\n",
    "\n",
    "ax = gby_drug['Volume'].count().plot(kind='bar')\n",
    "\n",
    "ax.set(xlabel='Drug', ylabel='Number of measurements', title = 'The number of tumor measurements for each drug treatment' )\n"
   ]
  },
  {
   "cell_type": "code",
   "execution_count": 8,
   "metadata": {},
   "outputs": [
    {
     "data": {
      "text/plain": [
       "Text(0.5, 1.0, 'The number of tumor measurements for each drug treatment')"
      ]
     },
     "execution_count": 8,
     "metadata": {},
     "output_type": "execute_result"
    },
    {
     "data": {
      "image/png": "[encoded data removed]",
      "text/plain": [
       "<Figure size 432x288 with 1 Axes>"
      ]
     },
     "metadata": {
      "needs_background": "light"
     },
     "output_type": "display_data"
    }
   ],
   "source": [
    "# Generate a bar plot showing the total number of measurements taken on each drug regimen using pyplot.\n",
    "data = gby_drug['Volume'].count()\n",
    "\n",
    "data = data.reset_index()\n",
    "data\n",
    "\n",
    "plt.bar(data['Drug Regimen'], data['Volume'])\n",
    "plt.xticks(rotation='vertical')\n",
    "plt.title('The number of tumor measurements for each drug treatment')\n",
    "#plt.bar(names, values)\n",
    "\n"
   ]
  },
  {
   "cell_type": "code",
   "execution_count": 9,
   "metadata": {},
   "outputs": [
    {
     "data": {
      "text/plain": [
       "<matplotlib.axes._subplots.AxesSubplot at 0x1eeca7eea20>"
      ]
     },
     "execution_count": 9,
     "metadata": {},
     "output_type": "execute_result"
    },
    {
     "data": {
      "image/png": "[encoded data removed]",
      "text/plain": [
       "<Figure size 360x360 with 1 Axes>"
      ]
     },
     "metadata": {},
     "output_type": "display_data"
    }
   ],
   "source": [
    "# Generate a pie plot showing the distribution of female versus male mice using pandas\n",
    "\n",
    "sex = clean.groupby(['Sex'])\n",
    "sex_count = sex['Sex'].count()\n",
    "sex_count.plot(kind='pie', shadow = True, figsize=(5,5), autopct='%1.1f%%')\n",
    "\n"
   ]
  },
  {
   "cell_type": "code",
   "execution_count": 10,
   "metadata": {},
   "outputs": [
    {
     "data": {
      "text/plain": [
       "Text(0.5, 1.0, 'sex')"
      ]
     },
     "execution_count": 10,
     "metadata": {},
     "output_type": "execute_result"
    },
    {
     "data": {
      "image/png": "[encoded data removed]",
      "text/plain": [
       "<Figure size 432x288 with 1 Axes>"
      ]
     },
     "metadata": {},
     "output_type": "display_data"
    }
   ],
   "source": [
    "# Generate a pie plot showing the distribution of female versus male mice using pyplot\n",
    "sex = clean.groupby(['Sex'])\n",
    "sex_count = sex['Mouse ID'].count().reset_index()\n",
    "\n",
    "# Pie chart, where the slices will be ordered and plotted counter-clockwise:\n",
    "\n",
    "labels = sex_count['Sex']\n",
    "sizes = sex_count['Mouse ID']\n",
    "plt.pie(sizes, labels=labels, autopct='%1.1f%%')\n",
    "plt.title(\"sex\")\n",
    "\n",
    "\n",
    "\n",
    "#sex_count\n",
    "\n",
    "\n"
   ]
  },
  {
   "cell_type": "markdown",
   "metadata": {},
   "source": [
    "## Quartiles, Outliers and Boxplots"
   ]
  },
  {
   "cell_type": "code",
   "execution_count": 11,
   "metadata": {},
   "outputs": [
    {
     "data": {
      "text/plain": [
       "130"
      ]
     },
     "execution_count": 11,
     "metadata": {},
     "output_type": "execute_result"
    }
   ],
   "source": [
    "# Calculate the final tumor volume of each mouse across four of the treatment regimens:  \n",
    "# Capomulin, Ramicane, Infubinol, and Ceftamin\n",
    "\n",
    "# Start by getting the last (greatest) timepoint for each mouse\n",
    "new_df = clean[clean['Timepoint'] == max(clean['Timepoint'])]\n",
    "new_df['Mouse ID'].value_counts().sum()\n",
    "\n",
    "#new_df.head(n=50)  - looks good.  ALl time points are 45.\n",
    "\n"
   ]
  },
  {
   "cell_type": "code",
   "execution_count": 46,
   "metadata": {},
   "outputs": [
    {
     "name": "stdout",
     "output_type": "stream",
     "text": [
      "looks like there are 0 outliers across all four treatments\n"
     ]
    }
   ],
   "source": [
    "# Put treatments into a list for for loop (and later for plot labels)\n",
    "\n",
    "#treatment_list.  Adding placebo for later comparisons\n",
    "\n",
    "treatments = ['Capomulin','Ramicane', 'Infubinol', 'Ceftamin', 'Placebo']\n",
    "\n",
    "#extract data for each drug treatment as separate lists (series?)\n",
    "cap = new_df[new_df['Drug Regimen'] == 'Capomulin']\n",
    "ram = new_df[new_df['Drug Regimen'] == 'Ramicane']\n",
    "inf = new_df[new_df['Drug Regimen'] == 'Infubinol']\n",
    "cef = new_df[new_df['Drug Regimen'] == 'Ceftamin']\n",
    "pla = new_df[new_df['Drug Regimen'] == 'Placebo']\n",
    "\n",
    "#add above lists to a dictionary for easy reference\n",
    "volumes = {'Capomulin':cap['Volume'],\n",
    "           'Ramicane':ram['Volume'],\n",
    "           'Infubinol': inf['Volume'], \n",
    "           'Ceftamin' : cef['Volume'],\n",
    "          'Placebo' : pla['Volume']}\n",
    "\n",
    "#Calculate IQR and outliers\n",
    "outliers = 0\n",
    "for treatment in treatments:\n",
    "    \n",
    "    first = np.percentile(volumes[treatment], 25)\n",
    "    third = np.percentile(volumes[treatment], 75)\n",
    "    IQR = round(third-first,2)\n",
    "    upper = third + 1.5*IQR\n",
    "    lower = first - 1.5*IQR\n",
    "    #print(upper)\n",
    "    #print(lower)\n",
    "    \n",
    "    for value in volumes[treatment]:\n",
    "        if value < lower or value > upper:\n",
    "            outliers +=1\n",
    "            \n",
    "print(f\"looks like there are {outliers} outliers across all four treatments\")\n",
    "\n",
    "    "
   ]
  },
  {
   "cell_type": "code",
   "execution_count": 57,
   "metadata": {},
   "outputs": [
    {
     "data": {
      "text/plain": [
       "Text(0.5, 1.0, 'Ceftamin')"
      ]
     },
     "execution_count": 57,
     "metadata": {},
     "output_type": "execute_result"
    },
    {
     "data": {
      "image/png": "[encoded data removed]",
      "text/plain": [
       "<Figure size 720x576 with 4 Axes>"
      ]
     },
     "metadata": {
      "needs_background": "light"
     },
     "output_type": "display_data"
    }
   ],
   "source": [
    "# Generate a box plot of the final tumor volume of each mouse across four regimens of interest\n",
    "plt.figure(figsize=(10,8))\n",
    "\n",
    "# first subplot\n",
    "plt.subplot(2, 2, 1)\n",
    "plt.boxplot(volumes['Capomulin']) \n",
    "plt.title(\"Capomulin\")\n",
    "plt.ylabel(\"Tumor volume (mm3)\")\n",
    "\n",
    "# second subplot\n",
    "plt.subplot(2, 2, 2)\n",
    "plt.boxplot(volumes['Ramicane']) \n",
    "plt.title(\"Ramicane\")\n",
    "\n",
    "# third subplot\n",
    "plt.subplot(2, 2, 3)\n",
    "plt.boxplot(volumes['Infubinol']) \n",
    "plt.title(\"Infubinol\")\n",
    "plt.ylabel(\"Tumor volume(mm3)\")\n",
    "\n",
    "# fourth subplot\n",
    "plt.subplot(2, 2, 4)\n",
    "plt.boxplot(volumes['Ceftamin']) \n",
    "plt.title(\"Ceftamin\")\n"
   ]
  },
  {
   "cell_type": "code",
   "execution_count": 53,
   "metadata": {},
   "outputs": [
    {
     "data": {
      "text/plain": [
       "Text(0.5, 1.0, 'Capomulin and Ramicane treatment reduce tumor volume ')"
      ]
     },
     "execution_count": 53,
     "metadata": {},
     "output_type": "execute_result"
    },
    {
     "data": {
      "image/png": "[encoded data removed]",
      "text/plain": [
       "<Figure size 720x504 with 1 Axes>"
      ]
     },
     "metadata": {
      "needs_background": "light"
     },
     "output_type": "display_data"
    }
   ],
   "source": [
    "#I think a direct comparison, including the placebo is more informative\n",
    "\n",
    "data_1 = volumes['Capomulin']\n",
    "data_2 = volumes['Ramicane']\n",
    "data_3 = volumes['Infubinol']\n",
    "data_4 = volumes['Ceftamin']\n",
    "data_5 = volumes['Placebo']\n",
    "\n",
    "data = [data_1, data_2, data_3, data_4, data_5] \n",
    "\n",
    "fig = plt.figure(figsize =(10, 7)) \n",
    "  \n",
    "# Creating axes instance \n",
    "ax = fig.add_axes([0, 0, 1, 1]) \n",
    "  \n",
    "# Creating plot \n",
    "bp = ax.boxplot(data, patch_artist = True)\n",
    "\n",
    "\n",
    "# fill with colors - not quite sure how this works, just trying things from google searches\n",
    "colors = ['blue', 'green', 'lightblue', 'lightgreen', 'pink' ]\n",
    "\n",
    "for patch, color in zip(bp['boxes'], colors):\n",
    "        patch.set_facecolor(color)\n",
    "\n",
    "ax.set_xticklabels(['Cap', 'Ram',  \n",
    "                    'Inf', 'Cef', 'Pla']) \n",
    "\n",
    "plt.title(\"Capomulin and Ramicane treatment reduce tumor volume \") \n",
    "  "
   ]
  },
  {
   "cell_type": "markdown",
   "metadata": {},
   "source": [
    "## Line and Scatter Plots"
   ]
  },
  {
   "cell_type": "code",
   "execution_count": 14,
   "metadata": {},
   "outputs": [],
   "source": [
    "# Generate a line plot of tumor volume vs. time point for a mouse treated with Capomulin\n"
   ]
  },
  {
   "cell_type": "code",
   "execution_count": 15,
   "metadata": {},
   "outputs": [],
   "source": [
    "# Generate a scatter plot of average tumor volume vs. mouse weight for the Capomulin regimen\n"
   ]
  },
  {
   "cell_type": "markdown",
   "metadata": {},
   "source": [
    "## Correlation and Regression"
   ]
  },
  {
   "cell_type": "code",
   "execution_count": 16,
   "metadata": {},
   "outputs": [],
   "source": [
    "# Calculate the correlation coefficient and linear regression model \n",
    "# for mouse weight and average tumor volume for the Capomulin regimen\n"
   ]
  },
  {
   "cell_type": "code",
   "execution_count": null,
   "metadata": {},
   "outputs": [],
   "source": []
  }
 ],
 "metadata": {
  "anaconda-cloud": {},
  "kernelspec": {
   "display_name": "Python 3",
   "language": "python",
   "name": "python3"
  },
  "language_info": {
   "codemirror_mode": {
    "name": "ipython",
    "version": 3
   },
   "file_extension": ".py",
   "mimetype": "text/x-python",
   "name": "python",
   "nbconvert_exporter": "python",
   "pygments_lexer": "ipython3",
   "version": "3.6.10"
  }
 },
 "nbformat": 4,
 "nbformat_minor": 4
}
